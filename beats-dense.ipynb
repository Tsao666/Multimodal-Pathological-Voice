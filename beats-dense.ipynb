{
 "cells": [
  {
   "cell_type": "code",
   "execution_count": null,
   "id": "f1b3ae66",
   "metadata": {
    "ExecuteTime": {
     "end_time": "2023-05-17T11:41:01.801838Z",
     "start_time": "2023-05-17T11:40:57.461159Z"
    },
    "deletable": false,
    "editable": false
   },
   "outputs": [],
   "source": [
    "import os\n",
    "import tensorflow as tf\n",
    "import numpy as np\n",
    "import pandas as pd\n",
    "from sklearn.metrics import recall_score\n",
    "from sklearn.utils import class_weight\n",
    "from util import util"
   ]
  },
  {
   "cell_type": "code",
   "execution_count": null,
   "id": "f35559c6",
   "metadata": {
    "ExecuteTime": {
     "end_time": "2023-05-17T11:41:01.806029Z",
     "start_time": "2023-05-17T11:41:01.803825Z"
    },
    "deletable": false,
    "editable": false
   },
   "outputs": [],
   "source": [
    "fullName = 'beats-dense-fullset'\n",
    "epochs = 2000\n",
    "batchSize = 32"
   ]
  },
  {
   "cell_type": "code",
   "execution_count": null,
   "id": "b19d3051",
   "metadata": {
    "ExecuteTime": {
     "end_time": "2023-05-17T11:41:03.350639Z",
     "start_time": "2023-05-17T11:41:01.807729Z"
    },
    "deletable": false,
    "editable": false,
    "scrolled": true
   },
   "outputs": [],
   "source": [
    "df = pd.read_pickle(os.path.join(util.dataPath, 'training.pkl'))\n",
    "df"
   ]
  },
  {
   "cell_type": "code",
   "execution_count": null,
   "id": "e5e9aa29",
   "metadata": {
    "ExecuteTime": {
     "end_time": "2023-05-17T11:41:03.356405Z",
     "start_time": "2023-05-17T11:41:03.352165Z"
    },
    "deletable": false,
    "editable": false
   },
   "outputs": [],
   "source": [
    "weight = class_weight.compute_class_weight('balanced',\n",
    "                                           classes=[1, 2, 3, 4, 5],\n",
    "                                           y=df['Disease category'].tolist())\n",
    "weightDict = dict(enumerate(weight))\n",
    "weightDict"
   ]
  },
  {
   "cell_type": "code",
   "execution_count": null,
   "id": "5cc0088d",
   "metadata": {
    "ExecuteTime": {
     "end_time": "2023-05-17T11:41:06.548247Z",
     "start_time": "2023-05-17T11:41:03.357761Z"
    },
    "deletable": false,
    "editable": false,
    "scrolled": true
   },
   "outputs": [],
   "source": [
    "valIndex = df.groupby(['Disease category']).sample(frac=0.1, random_state=5397).index\n",
    "steps_per_epoch = ((len(df) - len(valIndex)) // batchSize) + 1\n",
    "\n",
    "ds = util.getDsFromDf(df, batchSize=batchSize)\n",
    "\n",
    "trainDs = util.getDsFromDf(util.fillBatch(df[~df.index.isin(valIndex)], batchSize), batchSize=batchSize)\n",
    "valDs = util.getDsFromDf(util.fillBatch(df[df.index.isin(valIndex)], batchSize), batchSize=batchSize)\n",
    "valX, valY = util.getDsFromDf(df[df.index.isin(valIndex)], returnNp=True)\n",
    "\n",
    "batchShape = next(trainDs.take(1).as_numpy_iterator())[0]\n",
    "ds"
   ]
  },
  {
   "cell_type": "code",
   "execution_count": null,
   "id": "e8609aaf",
   "metadata": {
    "ExecuteTime": {
     "end_time": "2023-05-17T11:41:06.978791Z",
     "start_time": "2023-05-17T11:41:06.549630Z"
    },
    "deletable": false,
    "editable": false,
    "scrolled": true
   },
   "outputs": [],
   "source": [
    "publicTestDf = pd.read_pickle(os.path.join(util.publicTestPath, 'publitTest.pkl'))\n",
    "publicTestX = util.getDsFromDf(publicTestDf, testMode=True)\n",
    "publicTestX"
   ]
  },
  {
   "cell_type": "code",
   "execution_count": null,
   "id": "c65b5b74",
   "metadata": {
    "ExecuteTime": {
     "end_time": "2023-05-17T11:41:07.412523Z",
     "start_time": "2023-05-17T11:41:06.981378Z"
    },
    "deletable": false,
    "editable": false,
    "scrolled": true
   },
   "outputs": [],
   "source": [
    "privateTestDf = pd.read_pickle(os.path.join(util.privateTestPath, 'privateTest.pkl'))\n",
    "privateTestX = util.getDsFromDf(privateTestDf, testMode=True)\n",
    "privateTestX"
   ]
  },
  {
   "cell_type": "code",
   "execution_count": null,
   "id": "18ab2529",
   "metadata": {
    "ExecuteTime": {
     "end_time": "2023-05-17T11:41:07.417688Z",
     "start_time": "2023-05-17T11:41:07.414374Z"
    },
    "deletable": false,
    "editable": false
   },
   "outputs": [],
   "source": [
    "def macro_recall(labels, predictions):\n",
    "    \"\"\"\n",
    "    Calculates the macro recall given the true labels and predicted labels using TensorFlow.\n",
    "\n",
    "    Arguments:\n",
    "    labels -- true labels, a tensor of shape (batch_size, num_classes)\n",
    "    predictions -- predicted labels, a tensor of shape (batch_size, num_classes)\n",
    "\n",
    "    Returns:\n",
    "    recall -- macro recall value\n",
    "    \"\"\"\n",
    "\n",
    "    # Calculate true positives, false negatives, and the number of positive samples for each class\n",
    "    true_positives = tf.reduce_sum(labels * predictions, axis=0)\n",
    "    false_negatives = tf.reduce_sum(labels * (1 - predictions), axis=0)\n",
    "    num_positives = tf.reduce_sum(labels, axis=0)\n",
    "\n",
    "    # Calculate recall for each class\n",
    "    class_recall = true_positives / (true_positives + false_negatives + tf.keras.backend.epsilon())\n",
    "\n",
    "    # Calculate macro recall\n",
    "    macro_recall = tf.reduce_mean(class_recall)\n",
    "\n",
    "    return macro_recall"
   ]
  },
  {
   "cell_type": "code",
   "execution_count": null,
   "id": "ac91e7a9",
   "metadata": {
    "ExecuteTime": {
     "end_time": "2023-05-17T11:41:07.825382Z",
     "start_time": "2023-05-17T11:41:07.419073Z"
    },
    "deletable": false,
    "editable": false,
    "scrolled": true
   },
   "outputs": [],
   "source": [
    "audioInput = tf.keras.layers.Input(shape=batchShape['audio'].shape[1:], batch_size=batchSize)\n",
    "audioX = tf.keras.layers.GlobalAvgPool1D()(audioInput)\n",
    "audioX = tf.keras.layers.Dense(32, activation='relu')(audioX)\n",
    "\n",
    "structuredInput = tf.keras.layers.Input(shape=batchShape['structured'].shape[1:], batch_size=batchSize)\n",
    "structuredX = tf.keras.layers.Dense(32, activation='relu')(structuredInput)\n",
    "\n",
    "mergedX = tf.keras.layers.Concatenate()([audioX, structuredX])\n",
    "mergedX = tf.keras.layers.Dropout(0.5)(mergedX)\n",
    "mergedX = tf.keras.layers.Dense(5, activation='softmax')(mergedX)\n",
    "\n",
    "model = tf.keras.models.Model(inputs={'audio': audioInput, 'structured': structuredInput}, outputs=mergedX)\n",
    "\n",
    "model.compile(\n",
    "    optimizer=tf.keras.optimizers.Adam(1e-4),\n",
    "    loss=tf.keras.losses.CategoricalCrossentropy(label_smoothing=0.0),\n",
    "    metrics=[\n",
    "        'accuracy',\n",
    "        macro_recall,\n",
    "    ]\n",
    ")\n",
    "model.summary()\n",
    "tf.keras.utils.plot_model(model, show_shapes=True, rankdir=\"LR\")"
   ]
  },
  {
   "cell_type": "code",
   "execution_count": null,
   "id": "a31ff2f5",
   "metadata": {
    "ExecuteTime": {
     "end_time": "2023-05-17T11:39:00.065512Z",
     "start_time": "2023-05-17T11:38:55.648840Z"
    },
    "deletable": false,
    "editable": false,
    "run_control": {
     "frozen": true
    },
    "scrolled": true
   },
   "outputs": [],
   "source": [
    "hist = model.fit(\n",
    "    x=trainDs,\n",
    "    validation_data=valDs,\n",
    "    steps_per_epoch=steps_per_epoch,\n",
    "    class_weight=weightDict,\n",
    "    epochs=epochs,\n",
    "    max_queue_size=250,\n",
    "    workers=4,\n",
    "    callbacks=[\n",
    "        tf.keras.callbacks.ModelCheckpoint('weight/{}-best.h5'.format(fullName), monitor='val_accuracy', verbose=1, mode='max', save_best_only=True, save_weights_only=True),\n",
    "    ])\n",
    "model.save_weights('weight/{}.h5'.format(fullName))\n",
    "pd.DataFrame.from_dict(hist.history).to_pickle('history/{}.pkl'.format(fullName))"
   ]
  },
  {
   "cell_type": "code",
   "execution_count": null,
   "id": "e39ff506",
   "metadata": {
    "ExecuteTime": {
     "end_time": "2023-05-17T11:41:08.110102Z",
     "start_time": "2023-05-17T11:41:07.827376Z"
    },
    "deletable": false,
    "editable": false
   },
   "outputs": [],
   "source": [
    "hist = pd.read_pickle('history/{}.pkl'.format(fullName))\n",
    "util.showHist(hist)"
   ]
  },
  {
   "cell_type": "code",
   "execution_count": null,
   "id": "1c8589a1",
   "metadata": {
    "ExecuteTime": {
     "end_time": "2023-05-17T11:41:08.123432Z",
     "start_time": "2023-05-17T11:41:08.111675Z"
    },
    "deletable": false,
    "editable": false
   },
   "outputs": [],
   "source": [
    "model.load_weights('weight/{}-best.h5'.format(fullName))"
   ]
  },
  {
   "cell_type": "code",
   "execution_count": null,
   "id": "f5df37b3",
   "metadata": {
    "ExecuteTime": {
     "end_time": "2023-05-16T14:20:06.790968Z",
     "start_time": "2023-05-16T14:20:06.571578Z"
    },
    "deletable": false,
    "editable": false,
    "run_control": {
     "frozen": true
    }
   },
   "outputs": [],
   "source": [
    "recall = recall_score(\n",
    "    np.argmax(valY, axis=1),\n",
    "    np.argmax(model.predict(valX), axis=1),\n",
    "    average=None\n",
    ")\n",
    "recall, recall.mean()"
   ]
  },
  {
   "cell_type": "code",
   "execution_count": null,
   "id": "06067633",
   "metadata": {
    "ExecuteTime": {
     "end_time": "2023-05-17T11:41:10.882287Z",
     "start_time": "2023-05-17T11:41:08.124892Z"
    },
    "deletable": false,
    "editable": false,
    "scrolled": true
   },
   "outputs": [],
   "source": [
    "publicTestDf['pred'] = model.predict(publicTestX).tolist()\n",
    "publicTestDf['predLabel'] = publicTestDf['pred'].apply(lambda x: np.argmax(x, axis=-1) + 1)\n",
    "privateTestDf['pred'] = model.predict(privateTestX).tolist()\n",
    "privateTestDf['predLabel'] = privateTestDf['pred'].apply(lambda x: np.argmax(x, axis=-1) + 1)\n",
    "\n",
    "testDf = pd.concat([publicTestDf, privateTestDf])\n",
    "testDf[['ID', 'pred', 'predLabel']].to_pickle('output/{}-pred.pkl'.format(fullName))\n",
    "testDf[['ID', 'predLabel']].to_csv('output/{}.csv'.format(fullName), header=False, index=False)\n",
    "testDf"
   ]
  }
 ],
 "metadata": {
  "kernelspec": {
   "display_name": "Python 3",
   "language": "python",
   "name": "python3"
  },
  "language_info": {
   "codemirror_mode": {
    "name": "ipython",
    "version": 3
   },
   "file_extension": ".py",
   "mimetype": "text/x-python",
   "name": "python",
   "nbconvert_exporter": "python",
   "pygments_lexer": "ipython3",
   "version": "3.8.10"
  }
 },
 "nbformat": 4,
 "nbformat_minor": 5
}
